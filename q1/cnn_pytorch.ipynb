{
  "cells": [
    {
      "cell_type": "code",
      "execution_count": null,
      "id": "pAAQeth4IpYk",
      "metadata": {
        "id": "pAAQeth4IpYk"
      },
      "outputs": [],
      "source": [
        "EPOCHS = 10\n",
        "PATH_RES = 'cnn_results'"
      ]
    },
    {
      "cell_type": "markdown",
      "id": "6d990156",
      "metadata": {
        "id": "6d990156"
      },
      "source": [
        "# **CIFAR-10 Image Classification with Convolutional Neural Networks**\n",
        "\n",
        "## Dataset Overview\n",
        "The CIFAR-10 dataset is a widely used benchmark in computer vision and deep learning research, consisting of 60,000 color images distributed across 10 distinct classes. Each image has dimensions of 32×32 pixels with RGB channels, making it ideal for convolutional neural network training due to its manageable size and complexity.\n",
        "\n",
        "## Class Distribution\n",
        "The dataset contains exactly 6,000 images per class, organized into the following categories:\n",
        "- **Airplane** ✈️\n",
        "- **Automobile** 🚗\n",
        "- **Bird** 🐦\n",
        "- **Cat** 🐱\n",
        "- **Deer** 🦌\n",
        "- **Dog** 🐕\n",
        "- **Frog** 🐸\n",
        "- **Horse** 🐎\n",
        "- **Ship** 🚢\n",
        "- **Truck** 🚚"
      ]
    },
    {
      "cell_type": "markdown",
      "id": "4d9e0685",
      "metadata": {
        "id": "4d9e0685"
      },
      "source": [
        "Imports"
      ]
    },
    {
      "cell_type": "code",
      "execution_count": 103,
      "id": "992a01e0",
      "metadata": {
        "id": "992a01e0"
      },
      "outputs": [],
      "source": [
        "\n",
        "import os\n",
        "import random\n",
        "import time\n",
        "import argparse\n",
        "from pathlib import Path\n",
        "\n",
        "import numpy as np\n",
        "import pandas as pd\n",
        "import matplotlib.pyplot as plt\n",
        "from tqdm import tqdm\n",
        "\n",
        "import torch\n",
        "import torch.nn as nn\n",
        "import torch.optim as optim\n",
        "from torch.utils.data import DataLoader, Dataset\n",
        "from torchvision import transforms\n",
        "\n",
        "from datasets import load_dataset\n",
        "from sklearn.metrics import confusion_matrix, accuracy_score, precision_score, recall_score, f1_score"
      ]
    },
    {
      "cell_type": "code",
      "execution_count": 104,
      "id": "aa1ac761",
      "metadata": {
        "colab": {
          "base_uri": "https://localhost:8080/"
        },
        "id": "aa1ac761",
        "outputId": "22af3be6-da78-462d-b489-493686391fea"
      },
      "outputs": [
        {
          "name": "stdout",
          "output_type": "stream",
          "text": [
            "Using device: cuda\n"
          ]
        }
      ],
      "source": [
        "device = torch.device(\"cuda\" if torch.cuda.is_available() else \"cpu\")\n",
        "print(f\"Using device: {device}\")"
      ]
    },
    {
      "cell_type": "markdown",
      "id": "b2e50d6e",
      "metadata": {
        "id": "b2e50d6e"
      },
      "source": [
        "### set seed for reproducibility"
      ]
    },
    {
      "cell_type": "code",
      "execution_count": 105,
      "id": "e79fbdc4",
      "metadata": {
        "id": "e79fbdc4"
      },
      "outputs": [],
      "source": [
        "def set_seed(seed=42):\n",
        "    random.seed(seed)\n",
        "    np.random.seed(seed)\n",
        "    torch.manual_seed(seed)\n",
        "    torch.cuda.manual_seed_all(seed)\n"
      ]
    },
    {
      "cell_type": "markdown",
      "id": "4b3db878",
      "metadata": {
        "id": "4b3db878"
      },
      "source": [
        "###  Visualization Helpers\n",
        " Defines plotting functions for training/validation loss, confusion matrix, and feature map visualization."
      ]
    },
    {
      "cell_type": "code",
      "execution_count": 106,
      "id": "a0c8025a",
      "metadata": {
        "id": "a0c8025a"
      },
      "outputs": [],
      "source": [
        "def plot_loss(train_losses, val_losses, out_path=None):\n",
        "    plt.figure(figsize=(6,4))\n",
        "    plt.plot(train_losses, label='train')\n",
        "    plt.plot(val_losses, label='val')\n",
        "    plt.xlabel('Epoch')\n",
        "    plt.ylabel('Loss')\n",
        "    plt.legend()\n",
        "    plt.grid(True)\n",
        "    if out_path:\n",
        "        plt.savefig(out_path, bbox_inches='tight')\n",
        "    plt.close()\n",
        "\n",
        "\n",
        "def plot_confusion_matrix(cm, classes, out_path=None):\n",
        "    plt.figure(figsize=(8,6))\n",
        "    plt.imshow(cm, interpolation='nearest')\n",
        "    plt.title('Confusion matrix')\n",
        "    plt.colorbar()\n",
        "    tick_marks = np.arange(len(classes))\n",
        "    plt.xticks(tick_marks, classes, rotation=45)\n",
        "    plt.yticks(tick_marks, classes)\n",
        "    plt.ylabel('True label')\n",
        "    plt.xlabel('Predicted label')\n",
        "    plt.tight_layout()\n",
        "    if out_path:\n",
        "        plt.savefig(out_path, bbox_inches='tight')\n",
        "    plt.close()\n",
        "\n",
        "\n",
        "def visualize_feature_maps(model, img_tensor, layer_indices=[0,2,4], save_dir=None):\n",
        "    \"\"\"Extract and plot feature maps for selected convolutional layers.\n",
        "    layer_indices are indices inside model.features sequential module.\n",
        "    img_tensor: (1,3,32,32)\n",
        "    \"\"\"\n",
        "    model.eval()\n",
        "    img_tensor = img_tensor.to(device)\n",
        "    activations = {}\n",
        "    x = img_tensor\n",
        "    for idx, layer in enumerate(model.features):\n",
        "        x = layer(x)\n",
        "        if idx in layer_indices:\n",
        "            activations[idx] = x.detach().cpu()\n",
        "    # Plot first 8 feature maps of each selected layer\n",
        "    for k, act in activations.items():\n",
        "        num_maps = min(8, act.shape[1])\n",
        "        fig, axes = plt.subplots(1, num_maps, figsize=(num_maps*2,2))\n",
        "        for i in range(num_maps):\n",
        "            ax = axes[i]\n",
        "            fmap = act[0,i].numpy()\n",
        "            ax.imshow(fmap, cmap='gray')\n",
        "            ax.axis('off')\n",
        "        plt.suptitle(f'Layer {k} feature maps')\n",
        "        if save_dir:\n",
        "            os.makedirs(save_dir, exist_ok=True)\n",
        "            plt.savefig(os.path.join(save_dir, f'feature_maps_layer_{k}.png'), bbox_inches='tight')\n",
        "        plt.show(fig)\n",
        "        plt.close(fig)\n"
      ]
    },
    {
      "cell_type": "markdown",
      "id": "713feb03",
      "metadata": {
        "id": "713feb03"
      },
      "source": [
        "### Dataset Preparation\n",
        "Load the CIFAR-10 dataset from Hugging Face and Preprocess the images"
      ]
    },
    {
      "cell_type": "markdown",
      "id": "978bc0c1",
      "metadata": {
        "id": "978bc0c1"
      },
      "source": [
        "## Custom Dataset Class\n",
        "**Parameters:** hf_dataset (Hugging Face dataset), transform (composed transforms)\n",
        "\n",
        "**Returns:** PyTorch Dataset object compatible with DataLoader\n",
        "Wraps the Hugging Face CIFAR-10 dataset to provide PyTorch compatibility with proper image transformation support and label handling."
      ]
    },
    {
      "cell_type": "code",
      "execution_count": 107,
      "id": "ea0fdb29",
      "metadata": {
        "id": "ea0fdb29"
      },
      "outputs": [],
      "source": [
        "class CIFAR10TorchDataset(Dataset):\n",
        "    def __init__(self, hf_dataset, transform=None):\n",
        "        self.ds = hf_dataset\n",
        "        self.transform = transform\n",
        "\n",
        "    def __len__(self):\n",
        "        return len(self.ds)\n",
        "\n",
        "    def __getitem__(self, idx):\n",
        "        item = self.ds[int(idx)]\n",
        "        img = item['img']  # PIL Image provided by HF dataset\n",
        "        label = int(item['label'])\n",
        "        if self.transform:\n",
        "            img = self.transform(img)\n",
        "        return img, label\n"
      ]
    },
    {
      "cell_type": "markdown",
      "id": "6cde5633",
      "metadata": {
        "id": "6cde5633"
      },
      "source": [
        "## Transform Functions\n",
        "**Returns:** Two transform compositions (transform_train, transform_test)\n",
        "Defines separate transformation pipelines:\n",
        "\n",
        "- **Training:** Includes data augmentation (RandomHorizontalFlip) plus ToTensor conversion and CIFAR-10 specific normalization\n",
        "\n",
        "- **Testing:** Only includes conversion and normalization (no augmentation)\n",
        "Uses standard CIFAR-10 mean and std values for normalization."
      ]
    },
    {
      "cell_type": "code",
      "execution_count": 108,
      "id": "bed0349b",
      "metadata": {
        "id": "bed0349b"
      },
      "outputs": [],
      "source": [
        "def transform_dataset():\n",
        "\t\t# Transforms\n",
        "\ttransform_train = transforms.Compose([\n",
        "\t\t# augments training images\n",
        "\t\ttransforms.RandomHorizontalFlip(),\n",
        "\t\t# converts PIL → PyTorch tensor\n",
        "\t\ttransforms.ToTensor(),\n",
        "\t\ttransforms.Normalize((0.4914, 0.4822, 0.4465), (0.247, 0.243, 0.261))\n",
        "\t])\n",
        "\ttransform_test = transforms.Compose([\n",
        "\t\ttransforms.ToTensor(),\n",
        "\t\ttransforms.Normalize((0.4914, 0.4822, 0.4465), (0.247, 0.243, 0.261))\n",
        "\t])\n",
        "\treturn transform_train,transform_test"
      ]
    },
    {
      "cell_type": "code",
      "execution_count": 109,
      "id": "7f636609",
      "metadata": {
        "id": "7f636609"
      },
      "outputs": [],
      "source": [
        "def show_sample(hf):\n",
        "\n",
        "\tsample = hf['train'][0]\n",
        "\timg_pil = sample['img']\n",
        "\tlabel_idx = sample['label']\n",
        "\tclass_names = hf['train'].features['label'].names\n",
        "\n",
        "\tplt.figure(figsize=(3,3))\n",
        "\tplt.imshow(img_pil)\n",
        "\tplt.title(f\"raw HF img, label: {class_names[label_idx]}\")\n",
        "\tplt.axis('off')\n",
        "\tplt.show()"
      ]
    },
    {
      "cell_type": "markdown",
      "id": "NzLfwg-wOH8k",
      "metadata": {
        "id": "NzLfwg-wOH8k"
      },
      "source": [
        "## DataLoader Creation\n",
        "**Parameters:** batch_size (default=64) - number of samples per batch\n",
        "\n",
        "**Returns:** train_loader, test_loader, test_ds (DataLoader objects and test dataset)\n",
        "Loads CIFAR-10 from Hugging Face, applies appropriate transforms, and creates PyTorch DataLoaders with training data shuffled and both loaders using the specified batch size."
      ]
    },
    {
      "cell_type": "code",
      "execution_count": 110,
      "id": "fcc1a4fb",
      "metadata": {
        "id": "fcc1a4fb"
      },
      "outputs": [],
      "source": [
        "def get_dataloaders(batch_size=64):\n",
        "    # Load all transformers\n",
        "    transform_train, transform_test = transform_dataset()\n",
        "\n",
        "    # Load dataset\n",
        "    ds = load_dataset(\"cifar10\")\n",
        "\n",
        "    train_ds = CIFAR10TorchDataset(ds[\"train\"], transform=transform_train)\n",
        "    test_ds = CIFAR10TorchDataset(ds[\"test\"], transform=transform_test)\n",
        "\n",
        "    train_loader = DataLoader(train_ds, batch_size=batch_size, shuffle=True, num_workers=0)\n",
        "    test_loader = DataLoader(test_ds, batch_size=batch_size, shuffle=False, num_workers=0)\n",
        "\n",
        "    return train_loader, test_loader, test_ds\n"
      ]
    },
    {
      "cell_type": "markdown",
      "id": "4047294c",
      "metadata": {
        "id": "4047294c"
      },
      "source": [
        "### Build a Convolutional Neural Network\n",
        "Using a deep learning framework and train the model. Plot training error against each epoch"
      ]
    },
    {
      "cell_type": "markdown",
      "id": "98be954d",
      "metadata": {
        "id": "98be954d"
      },
      "source": [
        "## Training Function\n",
        "**Parameters:** model (CNN model), loader (DataLoader), criterion (loss function), optimizer\n",
        "\n",
        "**Returns:** Average training loss for the epoch\n",
        "Implements one epoch of training: sets model to train mode, iterates through batches, performs forward pass, computes loss, backpropagates, and updates weights. Returns average loss across all batches."
      ]
    },
    {
      "cell_type": "code",
      "execution_count": 111,
      "id": "f33426b4",
      "metadata": {
        "id": "f33426b4"
      },
      "outputs": [],
      "source": [
        "def train_one_epoch(model, loader, criterion, optimizer):\n",
        "    model.train()\n",
        "    running_loss = 0.0\n",
        "    for imgs, labels in loader:\n",
        "        imgs, labels = imgs.to(device), labels.to(device)\n",
        "         # clears grad for each batch\n",
        "        optimizer.zero_grad()\n",
        "        outputs = model(imgs)\n",
        "        loss = criterion(outputs, labels)\n",
        "        loss.backward()\n",
        "        optimizer.step()\n",
        "\n",
        "        running_loss += loss.item() * imgs.size(0)\n",
        "    return running_loss / len(loader.dataset)\n"
      ]
    },
    {
      "cell_type": "markdown",
      "id": "50e731b1",
      "metadata": {
        "id": "50e731b1"
      },
      "source": [
        "## Evaluation Function\n",
        "**Parameters:** model (CNN model), loader (DataLoader), criterion (loss function)\n",
        "\n",
        "**Returns:** avg_loss (average loss), preds (model predictions), targets (true labels)\n",
        "Evaluates model performance: sets model to eval mode, disables gradient computation, computes loss, collects predictions and true labels for metric calculation. Returns comprehensive evaluation results."
      ]
    },
    {
      "cell_type": "code",
      "execution_count": 112,
      "id": "902ed43d",
      "metadata": {
        "id": "902ed43d"
      },
      "outputs": [],
      "source": [
        "def evaluate(model, loader, criterion):\n",
        "    model.eval()\n",
        "    running_loss = 0.0\n",
        "    preds = []\n",
        "    targets = []\n",
        "    with torch.no_grad():\n",
        "        for imgs, labels in loader:\n",
        "            imgs, labels = imgs.to(device), labels.to(device)\n",
        "\n",
        "            outputs = model(imgs)\n",
        "            loss = criterion(outputs, labels)\n",
        "            running_loss += loss.item() * imgs.size(0)\n",
        "            # get predicted class with highest logit\n",
        "            _, predicted = torch.max(outputs, 1)\n",
        "            # save prediction\n",
        "            preds.extend(predicted.cpu().numpy().tolist())\n",
        "            targets.extend(labels.cpu().numpy().tolist())\n",
        "    avg_loss = running_loss / len(loader.dataset)\n",
        "    return avg_loss, np.array(preds), np.array(targets)\n"
      ]
    },
    {
      "cell_type": "markdown",
      "id": "a223a51c",
      "metadata": {
        "id": "a223a51c"
      },
      "source": [
        "## CNN Model Definition\n",
        "**Parameters:** num_classes (default=10), conv_filters (filter sizes per layer), num_conv_blocks (number of conv layers), dropout (regularization rate)\n",
        "\n",
        "**Returns:** SimpleCNN model instance\n",
        "Defines a configurable CNN architecture with:\n",
        "- Multiple convolutional blocks (Conv2d + BatchNorm + ReLU)\n",
        "- Adaptive max pooling that maintains spatial dimensions\n",
        "- Classifier with flattening, fully connected layers, and dropout\n",
        "- Automatic calculation of flattened feature size"
      ]
    },
    {
      "cell_type": "code",
      "execution_count": null,
      "id": "524d0c56",
      "metadata": {
        "id": "524d0c56"
      },
      "outputs": [],
      "source": [
        "class SimpleCNN(nn.Module):\n",
        "    def __init__(self, num_classes=10, conv_filters=[32, 64, 128], num_conv_blocks=3, dropout=0.3):\n",
        "        super().__init__()\n",
        "        layers = []\n",
        "        in_ch = 3\n",
        "        # start from CIFAR10 image size\n",
        "        spatial_size = 32\n",
        "\n",
        "        for i in range(num_conv_blocks):\n",
        "            # conv-filters = # of filters applied each layer\n",
        "            out_ch = conv_filters[i] if i < len(conv_filters) else conv_filters[-1]\n",
        "            layers += [\n",
        "                # padding = 1 -> image size remains the same after conv\n",
        "                nn.Conv2d(in_ch, out_ch, kernel_size=3, padding=1),\n",
        "                nn.BatchNorm2d(out_ch),\n",
        "                nn.ReLU(inplace=True)\n",
        "            ]\n",
        "            # only add pooling if size will remain >= 1\n",
        "            if (spatial_size // 2) >= 1:\n",
        "                layers.append(nn.MaxPool2d(2))\n",
        "                spatial_size //= 2\n",
        "            in_ch = out_ch\n",
        "\n",
        "        # apply layers sequentially\n",
        "        self.features = nn.Sequential(*layers)\n",
        "\n",
        "        # now spatial_size tracks the correct size\n",
        "        self.classifier = nn.Sequential(\n",
        "            # final 3D tensor (channels × H × W) -> flat 1D vector\n",
        "            nn.Flatten(),\n",
        "            # output layer (256 probs)\n",
        "            nn.Linear(in_ch * spatial_size * spatial_size, 256),\n",
        "            nn.ReLU(inplace=True),\n",
        "            # drop activations, prevetn overfitting\n",
        "            nn.Dropout(dropout),\n",
        "            # mapping to 10 output classes\n",
        "            nn.Linear(256, num_classes)\n",
        "        )\n",
        "\n",
        "    def forward(self, x):\n",
        "        # x -> batch of (3,32,32) images\n",
        "        # apply layers for extraction to batch\n",
        "        x = self.features(x)\n",
        "        # flattened, output = (batchsize, 10) prob of each class per sample\n",
        "        x = self.classifier(x)\n",
        "        return x\n"
      ]
    },
    {
      "cell_type": "markdown",
      "id": "8bee5302",
      "metadata": {
        "id": "8bee5302"
      },
      "source": [
        "## Run System\n",
        "**Parameters:** train_loader, test_loader, test_ds, save_dir, num_epochs, lr, conv_filters, num_conv_blocks, seed\n",
        "\n",
        "**Function:** Complete training pipeline including:\n",
        "- Model initialization and training setup\n",
        "- Epoch-wise training and validation\n",
        "- Best model saving based on validation loss\n",
        "- Loss curve plotting\n",
        "- Final evaluation with metric calculation (accuracy, precision, recall, F1)\n",
        "- Confusion matrix visualization\n",
        "- Feature map extraction and visualization\n",
        "Saves all results to specified directory."
      ]
    },
    {
      "cell_type": "code",
      "execution_count": 114,
      "id": "a159906c",
      "metadata": {
        "id": "a159906c"
      },
      "outputs": [],
      "source": [
        "def run_experiment(train_loader,\n",
        "                   test_loader,\n",
        "                   test_ds,\n",
        "                   save_dir='results',\n",
        "                   num_epochs=20,\n",
        "                   lr=0.001,\n",
        "                   conv_filters=[32,64,128],\n",
        "                   num_conv_blocks=3,\n",
        "                   seed=42):\n",
        "\n",
        "    set_seed(seed)\n",
        "    os.makedirs(save_dir, exist_ok=True)\n",
        "\n",
        "    # Build model + training setup\n",
        "    model = SimpleCNN(num_classes=10, conv_filters=conv_filters, num_conv_blocks=num_conv_blocks).to(device)\n",
        "    # softmax + -ve log-likelihood\n",
        "    criterion = nn.CrossEntropyLoss()\n",
        "    optimizer = optim.SGD(model.parameters(), lr=lr, momentum=0.9)\n",
        "\n",
        "    best_val_loss = float('inf')\n",
        "    train_losses, val_losses = [], []\n",
        "\n",
        "    for epoch in range(1, num_epochs+1):\n",
        "        t0 = time.time()\n",
        "        train_loss = train_one_epoch(model, train_loader, criterion, optimizer)\n",
        "        val_loss, _, _ = evaluate(model, test_loader, criterion)\n",
        "\n",
        "        train_losses.append(train_loss)\n",
        "        val_losses.append(val_loss)\n",
        "\n",
        "        print(f'Epoch {epoch}/{num_epochs} - train_loss: {train_loss:.4f} val_loss: {val_loss:.4f} time: {time.time()-t0:.1f}s')\n",
        "\n",
        "        if val_loss < best_val_loss:\n",
        "            best_val_loss = val_loss\n",
        "            torch.save(model.state_dict(), os.path.join(save_dir, 'best_model.pth'))\n",
        "\n",
        "    # Plotting losses\n",
        "    fig = plot_loss(train_losses, val_losses, out_path=os.path.join(save_dir, 'loss.png'))\n",
        "    plt.show(fig)\n",
        "    plt.close(fig)\n",
        "\n",
        "    # Final evaluation\n",
        "    model.load_state_dict(torch.load(os.path.join(save_dir, 'best_model.pth')))\n",
        "    _, preds, targets = evaluate(model, test_loader, criterion)\n",
        "\n",
        "    # Metrics\n",
        "    accuracy = accuracy_score(targets, preds)\n",
        "    precision = precision_score(targets, preds, average='macro', zero_division=0)\n",
        "    recall = recall_score(targets, preds, average='macro', zero_division=0)\n",
        "    f1 = f1_score(targets, preds, average='macro', zero_division=0)\n",
        "\n",
        "    cm = confusion_matrix(targets, preds)\n",
        "    fig = plot_confusion_matrix(cm, classes=[str(i) for i in range(10)],\n",
        "                                out_path=os.path.join(save_dir, 'confusion_matrix.png'))\n",
        "    plt.show(fig)\n",
        "    plt.close(fig)\n",
        "\n",
        "    metrics = {\n",
        "              'accuracy': accuracy,\n",
        "              'precision': precision,\n",
        "              'recall': recall,\n",
        "              'f1': f1\n",
        "              }\n",
        "    pd.DataFrame([metrics]).to_csv(os.path.join(save_dir, 'metrics.csv'), index=False)\n",
        "\n",
        "    # Feature maps\n",
        "    sample_img, _ = test_ds[0]\n",
        "    visualize_feature_maps(model, sample_img.unsqueeze(0), layer_indices=[0,2,4], save_dir=save_dir)\n",
        "    return metrics\n"
      ]
    },
    {
      "cell_type": "code",
      "execution_count": 115,
      "id": "f2f7a71a",
      "metadata": {
        "id": "f2f7a71a"
      },
      "outputs": [],
      "source": [
        "def ablation_study(train_loader, test_loader, test_ds, out_dir='ablation_results'):\n",
        "    os.makedirs(out_dir, exist_ok=True)\n",
        "    experiments = []\n",
        "\n",
        "    # Baseline\n",
        "    baseline = dict(lr=0.001, batch_size=64, conv_filters=[32,64,128], num_conv_blocks=3)\n",
        "\n",
        "    # Learning rates\n",
        "    for lr in [0.001, 0.01, 0.1]:\n",
        "        name = f'lr_{lr}'\n",
        "        save_dir = os.path.join(out_dir, name)\n",
        "        print(f\"\\n=== Running experiment: {name} ===\")\n",
        "        print(f\"Params -> lr: {lr}, batch_size: {baseline['batch_size']}, \"\n",
        "              f\"filters: {baseline['conv_filters']}, layers: {baseline['num_conv_blocks']}\")\n",
        "\n",
        "        metrics = run_experiment(train_loader, test_loader, test_ds,\n",
        "                                 save_dir=save_dir, lr=lr,\n",
        "                                 conv_filters=baseline['conv_filters'],\n",
        "                                 num_conv_blocks=baseline['num_conv_blocks'],\n",
        "                                 num_epochs=EPOCHS)\n",
        "\n",
        "        print(f\"Results -> Acc: {metrics['accuracy']:.4f}, Prec: {metrics['precision']:.4f}, \"\n",
        "              f\"Recall: {metrics['recall']:.4f}, F1: {metrics['f1']:.4f}\")\n",
        "\n",
        "        experiments.append((name, lr, baseline['batch_size'], baseline['conv_filters'],\n",
        "                            baseline['num_conv_blocks'], metrics))\n",
        "\n",
        "    # Batch sizes\n",
        "    for bs in [16, 32, 64]:\n",
        "        name = f'bs_{bs}'\n",
        "        save_dir = os.path.join(out_dir, name)\n",
        "        print(f\"\\n=== Running experiment: {name} ===\")\n",
        "        print(f\"Params -> lr: {baseline['lr']}, batch_size: {bs}, \"\n",
        "              f\"filters: {baseline['conv_filters']}, layers: {baseline['num_conv_blocks']}\")\n",
        "\n",
        "        train_loader_bs, test_loader_bs, _ = get_dataloaders(batch_size=bs)\n",
        "        metrics = run_experiment(train_loader_bs, test_loader_bs, test_ds,\n",
        "                                 save_dir=save_dir, lr=baseline['lr'],\n",
        "                                 conv_filters=baseline['conv_filters'],\n",
        "                                 num_conv_blocks=baseline['num_conv_blocks'],\n",
        "                                 num_epochs=EPOCHS)\n",
        "\n",
        "        print(f\"Results -> Acc: {metrics['accuracy']:.4f}, Prec: {metrics['precision']:.4f}, \"\n",
        "              f\"Recall: {metrics['recall']:.4f}, F1: {metrics['f1']:.4f}\")\n",
        "\n",
        "        experiments.append((name, baseline['lr'], bs, baseline['conv_filters'],\n",
        "                            baseline['num_conv_blocks'], metrics))\n",
        "\n",
        "    # Filters\n",
        "    for f in [16, 32, 64]:\n",
        "        conv_filters = [f, f*2, f*4]\n",
        "        name = f'filters_{f}'\n",
        "        save_dir = os.path.join(out_dir, name)\n",
        "        print(f\"\\n=== Running experiment: {name} ===\")\n",
        "        print(f\"Params -> lr: {baseline['lr']}, batch_size: {baseline['batch_size']}, \"\n",
        "              f\"filters: {conv_filters}, layers: {baseline['num_conv_blocks']}\")\n",
        "\n",
        "        metrics = run_experiment(train_loader, test_loader, test_ds,\n",
        "                                 save_dir=save_dir, lr=baseline['lr'],\n",
        "                                 conv_filters=conv_filters,\n",
        "                                 num_conv_blocks=baseline['num_conv_blocks'],\n",
        "                                 num_epochs=EPOCHS)\n",
        "\n",
        "        print(f\"Results -> Acc: {metrics['accuracy']:.4f}, Prec: {metrics['precision']:.4f}, \"\n",
        "              f\"Recall: {metrics['recall']:.4f}, F1: {metrics['f1']:.4f}\")\n",
        "\n",
        "        experiments.append((name, baseline['lr'], baseline['batch_size'],\n",
        "                            conv_filters, baseline['num_conv_blocks'], metrics))\n",
        "\n",
        "    # Number of conv layers\n",
        "    for layers in [3, 5, 7]:\n",
        "        base = 32\n",
        "        conv_filters = [base*(2**i) for i in range(layers)]\n",
        "        name = f'layers_{layers}'\n",
        "        save_dir = os.path.join(out_dir, name)\n",
        "        print(f\"\\n=== Running experiment: {name} ===\")\n",
        "        print(f\"Params -> lr: {baseline['lr']}, batch_size: {baseline['batch_size']}, \"\n",
        "              f\"filters: {conv_filters}, layers: {layers}\")\n",
        "\n",
        "        metrics = run_experiment(train_loader, test_loader, test_ds,\n",
        "                                 save_dir=save_dir, lr=baseline['lr'],\n",
        "                                 conv_filters=conv_filters,\n",
        "                                 num_conv_blocks=layers,\n",
        "                                 num_epochs=EPOCHS)\n",
        "\n",
        "        print(f\"Results -> Acc: {metrics['accuracy']:.4f}, Prec: {metrics['precision']:.4f}, \"\n",
        "              f\"Recall: {metrics['recall']:.4f}, F1: {metrics['f1']:.4f}\")\n",
        "\n",
        "        experiments.append((name, baseline['lr'], baseline['batch_size'],\n",
        "                            conv_filters, layers, metrics))\n",
        "\n",
        "    # Save summary table\n",
        "    rows = []\n",
        "    for e in experiments:\n",
        "        name, lr, bs, conv_filters, layers, metrics = e\n",
        "        rows.append({\n",
        "            'exp': name,\n",
        "            'lr': lr,\n",
        "            'batch_size': bs,\n",
        "            'filters': str(conv_filters),\n",
        "            'layers': layers,\n",
        "            'accuracy': metrics['accuracy'],\n",
        "            'precision': metrics['precision'],\n",
        "            'recall': metrics['recall'],\n",
        "            'f1': metrics['f1']\n",
        "        })\n",
        "    df = pd.DataFrame(rows)\n",
        "    df.to_csv(os.path.join(out_dir, 'ablation_summary.csv'), index=False)\n",
        "    print('\\nAblation study complete. Summary saved to', os.path.join(out_dir, 'ablation_summary.csv'))\n",
        "    return df\n"
      ]
    },
    {
      "cell_type": "code",
      "execution_count": null,
      "id": "f67ae896",
      "metadata": {
        "colab": {
          "base_uri": "https://localhost:8080/",
          "height": 891
        },
        "id": "f67ae896",
        "outputId": "bd38a58b-c91b-4aa6-a5ca-282a9f1695c3"
      },
      "outputs": [
        {
          "name": "stdout",
          "output_type": "stream",
          "text": [
            "Epoch 1/30 - train_loss: 1.2979 val_loss: 0.9353 time: 69.1s\n",
            "Epoch 2/30 - train_loss: 0.9363 val_loss: 0.7945 time: 67.9s\n",
            "Epoch 3/30 - train_loss: 0.8025 val_loss: 0.7377 time: 67.6s\n",
            "Epoch 4/30 - train_loss: 0.7075 val_loss: 0.6628 time: 66.1s\n",
            "Epoch 5/30 - train_loss: 0.6376 val_loss: 0.6423 time: 66.6s\n",
            "Epoch 6/30 - train_loss: 0.5746 val_loss: 0.5834 time: 65.8s\n",
            "Epoch 7/30 - train_loss: 0.5286 val_loss: 0.5920 time: 65.4s\n",
            "Epoch 8/30 - train_loss: 0.4898 val_loss: 0.5993 time: 65.5s\n",
            "Epoch 9/30 - train_loss: 0.4528 val_loss: 0.5406 time: 69.7s\n",
            "Epoch 10/30 - train_loss: 0.4116 val_loss: 0.5597 time: 68.0s\n",
            "Epoch 11/30 - train_loss: 0.3850 val_loss: 0.5425 time: 69.6s\n",
            "Epoch 12/30 - train_loss: 0.3523 val_loss: 0.5544 time: 74.0s\n",
            "Epoch 13/30 - train_loss: 0.3302 val_loss: 0.5432 time: 72.3s\n",
            "Epoch 14/30 - train_loss: 0.3081 val_loss: 0.5893 time: 69.7s\n",
            "Epoch 15/30 - train_loss: 0.2849 val_loss: 0.5893 time: 69.0s\n",
            "Epoch 16/30 - train_loss: 0.2615 val_loss: 0.5528 time: 66.8s\n",
            "Epoch 17/30 - train_loss: 0.2438 val_loss: 0.5555 time: 72.3s\n",
            "Epoch 18/30 - train_loss: 0.2213 val_loss: 0.6021 time: 73.2s\n",
            "Epoch 19/30 - train_loss: 0.2086 val_loss: 0.5610 time: 71.4s\n",
            "Epoch 20/30 - train_loss: 0.1920 val_loss: 0.5640 time: 75.5s\n",
            "Epoch 21/30 - train_loss: 0.1796 val_loss: 0.5875 time: 72.3s\n",
            "Epoch 22/30 - train_loss: 0.1699 val_loss: 0.6239 time: 68.8s\n",
            "Epoch 23/30 - train_loss: 0.1569 val_loss: 0.5972 time: 70.2s\n",
            "Epoch 24/30 - train_loss: 0.1428 val_loss: 0.6322 time: 74.0s\n",
            "Epoch 25/30 - train_loss: 0.1362 val_loss: 0.6000 time: 75.8s\n",
            "Epoch 26/30 - train_loss: 0.1246 val_loss: 0.6271 time: 72.2s\n",
            "Epoch 27/30 - train_loss: 0.1189 val_loss: 0.6051 time: 71.9s\n",
            "Epoch 28/30 - train_loss: 0.1083 val_loss: 0.6272 time: 71.0s\n",
            "Epoch 29/30 - train_loss: 0.1046 val_loss: 0.6395 time: 69.8s\n",
            "Epoch 30/30 - train_loss: 0.0969 val_loss: 0.6463 time: 70.0s\n"
          ]
        },
        {
          "data": {
            "image/png": "[encoded data removed]",
            "text/plain": [
              "<Figure size 1600x200 with 8 Axes>"
            ]
          },
          "metadata": {},
          "output_type": "display_data"
        },
        {
          "data": {
            "image/png": "[encoded data removed]",
            "text/plain": [
              "<Figure size 1600x200 with 8 Axes>"
            ]
          },
          "metadata": {},
          "output_type": "display_data"
        },
        {
          "data": {
            "image/png": "[encoded data removed]",
            "text/plain": [
              "<Figure size 1600x200 with 8 Axes>"
            ]
          },
          "metadata": {},
          "output_type": "display_data"
        }
      ],
      "source": [
        "class Args:\n",
        "    mode = 'ablation'\n",
        "    # mode = 'run'\n",
        "    out = PATH_RES\n",
        "    epochs = EPOCHS\n",
        "    lr = 0.01\n",
        "    batch = 16\n",
        "    filters = '64,128,256'\n",
        "    layers = 7\n",
        "\n",
        "args = Args()\n",
        "filters = [int(x) for x in args.filters.split(',')]\n",
        "\n",
        "# Load dataset once at start\n",
        "train_loader, test_loader, test_ds = get_dataloaders(batch_size=args.batch)\n",
        "\n",
        "if args.mode == 'run':\n",
        "    run_experiment(train_loader, test_loader, test_ds,\n",
        "                   save_dir=args.out,\n",
        "                   num_epochs=args.epochs,\n",
        "                   lr=args.lr,\n",
        "                   conv_filters=filters,\n",
        "                   num_conv_blocks=args.layers)\n",
        "else:\n",
        "    ablation_study(train_loader, test_loader, test_ds, out_dir=args.out)\n"
      ]
    }
  ],
  "metadata": {
    "accelerator": "GPU",
    "colab": {
      "gpuType": "T4",
      "provenance": []
    },
    "kernelspec": {
      "display_name": "Python 3",
      "name": "python3"
    },
    "language_info": {
      "codemirror_mode": {
        "name": "ipython",
        "version": 3
      },
      "file_extension": ".py",
      "mimetype": "text/x-python",
      "name": "python",
      "nbconvert_exporter": "python",
      "pygments_lexer": "ipython3",
      "version": "3.12.5"
    }
  },
  "nbformat": 4,
  "nbformat_minor": 5
}
